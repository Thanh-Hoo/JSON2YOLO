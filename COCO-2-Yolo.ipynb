{
  "nbformat": 4,
  "nbformat_minor": 0,
  "metadata": {
    "colab": {
      "name": "Welcome To Colaboratory",
      "provenance": [],
      "collapsed_sections": [],
      "include_colab_link": true
    },
    "kernelspec": {
      "display_name": "Python 3",
      "name": "python3"
    },
    "accelerator": "GPU"
  },
  "cells": [
    {
      "cell_type": "markdown",
      "metadata": {
        "id": "view-in-github",
        "colab_type": "text"
      },
      "source": [
        "<a href=\"https://colab.research.google.com/github/Thanh-Hoo/JSON2YOLO/blob/master/COCO-2-Yolo.ipynb\" target=\"_parent\"><img src=\"https://colab.research.google.com/assets/colab-badge.svg\" alt=\"Open In Colab\"/></a>"
      ]
    },
    {
      "cell_type": "code",
      "metadata": {
        "id": "T0kyejqHYI1i"
      },
      "source": [
        "import json"
      ],
      "execution_count": 1,
      "outputs": []
    },
    {
      "cell_type": "code",
      "metadata": {
        "id": "t_G5gRxKsPhS"
      },
      "source": [
        "f = open('train_traffic_sign_dataset.json')\n",
        "data=json.load(f)"
      ],
      "execution_count": 6,
      "outputs": []
    },
    {
      "cell_type": "code",
      "metadata": {
        "id": "xAx_qmqHKL3c",
        "outputId": "64890a73-d6d8-4e96-f6a2-d897d0f0fd71",
        "colab": {
          "base_uri": "https://localhost:8080/"
        }
      },
      "source": [
        "for i in data['categories']:\n",
        "    print(i)\n",
        "    "
      ],
      "execution_count": 116,
      "outputs": [
        {
          "output_type": "stream",
          "text": [
            "{'supercategory': 'Cấm ngược chiều', 'id': 1, 'name': 'Cấm ngược chiều'}\n",
            "{'supercategory': 'Cấm dừng và đỗ', 'id': 2, 'name': 'Cấm dừng và đỗ'}\n",
            "{'supercategory': 'Cấm rẽ', 'id': 3, 'name': 'Cấm rẽ'}\n",
            "{'supercategory': 'Giới hạn tốc độ', 'id': 4, 'name': 'Giới hạn tốc độ'}\n",
            "{'supercategory': 'Cấm còn lại', 'id': 5, 'name': 'Cấm còn lại'}\n",
            "{'supercategory': 'Nguy hiểm', 'id': 6, 'name': 'Nguy hiểm'}\n",
            "{'supercategory': 'Hiệu lệnh', 'id': 7, 'name': 'Hiệu lệnh'}\n"
          ],
          "name": "stdout"
        }
      ]
    },
    {
      "cell_type": "code",
      "metadata": {
        "id": "6Bt87j_3YZu5",
        "outputId": "b42fdf7c-9d14-49f5-8c38-b354a6cfbd4b",
        "colab": {
          "base_uri": "https://localhost:8080/"
        }
      },
      "source": [
        "import time\n",
        "import os\n",
        "start_time = time.time()\n",
        "\n",
        "\n",
        "if os.path.exists(\"annotation/\")==False:\n",
        "    os.mkdir('annotation')\n",
        "count=0\n",
        "for i in data['images']: \n",
        "    # ['file_name']['id']['street_id']\n",
        "    id = i['id']\n",
        "    for a in data['images']:\n",
        "        if a['id'] == id:\n",
        "            dw = 1/a['width']\n",
        "            dh = 1/a['height']\n",
        "    for j in data['annotations']:\n",
        "        if j['image_id'] == id:\n",
        "            f = open('./annotation/'+str(j['image_id'])+'.txt',mode='a')\n",
        "            f.write(str(j['category_id']-1)+\" \")\n",
        "            f.write(str( ((j['bbox'][0]+j['bbox'][2]/2)*dw) )+\" \")\n",
        "            f.write(str( ((j['bbox'][1]+j['bbox'][3]/2)*dh) )+\" \")\n",
        "            f.write(str( (j['bbox'][2]*dw) )+\" \")\n",
        "            f.write(str((j['bbox'][3]*dh)))\n",
        "            f.write(\"\\n\") \n",
        "            # print(j['image_id'],j['bbox'],j['category_id'])\n",
        "print(count)\n",
        "print(\"--- %s seconds ---\" % (time.time() - start_time))\n"
      ],
      "execution_count": 129,
      "outputs": [
        {
          "output_type": "stream",
          "text": [
            "0\n",
            "--- 7.030092000961304 seconds ---\n"
          ],
          "name": "stdout"
        }
      ]
    },
    {
      "cell_type": "code",
      "metadata": {
        "id": "Bk1F3v5sQmF7"
      },
      "source": [
        "!zip -r 'annotation.zip' 'annotation' "
      ],
      "execution_count": null,
      "outputs": []
    },
    {
      "cell_type": "code",
      "metadata": {
        "id": "Tk_fxHf6RBzB"
      },
      "source": [
        "rm -rf annotation.zip"
      ],
      "execution_count": 128,
      "outputs": []
    },
    {
      "cell_type": "code",
      "metadata": {
        "id": "7wk0-NTqVQXX"
      },
      "source": [
        ""
      ],
      "execution_count": null,
      "outputs": []
    }
  ]
}